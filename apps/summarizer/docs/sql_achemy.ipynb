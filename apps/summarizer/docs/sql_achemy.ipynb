{
 "cells": [
  {
   "cell_type": "markdown",
   "metadata": {},
   "source": [
    "# Sychronous"
   ]
  },
  {
   "cell_type": "code",
   "execution_count": 1,
   "metadata": {},
   "outputs": [
    {
     "name": "stderr",
     "output_type": "stream",
     "text": [
      "WARNING: All log messages before absl::InitializeLog() is called are written to STDERR\n",
      "I0000 00:00:1726895605.213336  362042 config.cc:230] gRPC experiments enabled: call_status_override_on_cancellation, event_engine_dns, event_engine_listener, http2_stats_fix, monitoring_experiment, pick_first_new, trace_record_callops, work_serializer_clears_time_cache\n",
      "I0000 00:00:1726895605.220067  362042 check_gcp_environment.cc:61] BIOS data file does not exist or cannot be opened.\n"
     ]
    }
   ],
   "source": [
    "\"\"\"All custom functions used in this app\"\"\"\n",
    "import re\n",
    "from typing import List\n",
    "\n",
    "import datetime\n",
    "from datetime import datetime as dt\n",
    "from langchain_core.documents import Document\n",
    "from sqlalchemy import create_engine, Column, String, Text, DateTime\n",
    "from sqlalchemy.orm import sessionmaker, declarative_base\n",
    "\n",
    "from backend.app.build.models import LLM\n",
    "from backend.app.utils.config import SYNC_DATABASE_URL\n",
    "\n",
    "\n",
    "# Create the SQLAlchemy engine\n",
    "engine = create_engine(SYNC_DATABASE_URL)\n",
    "\n",
    "# Create a base class for declarative class definitions\n",
    "Base = declarative_base()\n",
    "\n",
    "\n",
    "class WikiSummary(Base):\n",
    "    \"\"\"Define the wiki_summaries table as a class\"\"\"\n",
    "    __tablename__ = 'wiki_summaries'\n",
    "    uuid = Column(String, primary_key=True)\n",
    "    url = Column(String, nullable=False)\n",
    "    summary = Column(Text, nullable=False)\n",
    "    creation_date = Column(DateTime,\n",
    "                           default=dt.now(datetime.timezone.utc))\n",
    "\n",
    "\n",
    "# Create the table in the database\n",
    "Base.metadata.create_all(engine)\n",
    "\n",
    "\n",
    "# Create a session factory\n",
    "session_constructor = sessionmaker(bind=engine)\n",
    "session = session_constructor()\n",
    "\n",
    "\n",
    "def insert_wiki_summary(uuid, url, summary):\n",
    "    \"\"\"\n",
    "    Function creates a new record and inserts it into the table\n",
    "    wiki_summaries.\n",
    "    \"\"\"\n",
    "    try:\n",
    "        # Create a new WikiSummary object\n",
    "        new_summary = WikiSummary(\n",
    "            uuid=uuid,\n",
    "            url=url,\n",
    "            summary=summary\n",
    "        )\n",
    "\n",
    "        # Add the new object to the session\n",
    "        session.add(new_summary)\n",
    "\n",
    "        # Commit the transaction\n",
    "        session.commit()\n",
    "\n",
    "        info = \"Data inserted successfully!\"\n",
    "\n",
    "        return info\n",
    "\n",
    "    except Exception as e:\n",
    "        info = f\"An error occurred: {e}\"\n",
    "        session.rollback()\n",
    "        return info\n",
    "    finally:\n",
    "        # Close the session\n",
    "        session.close()"
   ]
  },
  {
   "cell_type": "code",
   "execution_count": 3,
   "metadata": {},
   "outputs": [
    {
     "data": {
      "text/plain": [
       "'Data inserted successfully!'"
      ]
     },
     "execution_count": 3,
     "metadata": {},
     "output_type": "execute_result"
    }
   ],
   "source": [
    "insert_wiki_summary(\"123e4567-e89b-12d3-a456-426614174002\", \"https://example.com\", \"This is a summary.\")"
   ]
  },
  {
   "cell_type": "markdown",
   "metadata": {},
   "source": [
    "# Asynchronous"
   ]
  },
  {
   "cell_type": "code",
   "execution_count": 5,
   "metadata": {},
   "outputs": [
    {
     "name": "stderr",
     "output_type": "stream",
     "text": [
      "I0000 00:00:1726894965.144419  348363 work_stealing_thread_pool.cc:320] WorkStealingThreadPoolImpl::PrepareFork\n",
      "I0000 00:00:1726894965.145276  348363 fork_posix.cc:77] Other threads are currently calling into gRPC, skipping fork() handlers\n"
     ]
    },
    {
     "name": "stdout",
     "output_type": "stream",
     "text": [
      "Collecting asyncpg\n",
      "  Downloading asyncpg-0.29.0-cp311-cp311-manylinux_2_17_x86_64.manylinux2014_x86_64.whl.metadata (4.4 kB)\n",
      "Requirement already satisfied: sqlalchemy[asyncio] in /home/ds/intel/oneapi/intelpython/envs/venvia/lib/python3.11/site-packages (2.0.31)\n",
      "Requirement already satisfied: typing-extensions>=4.6.0 in /home/ds/intel/oneapi/intelpython/envs/venvia/lib/python3.11/site-packages (from sqlalchemy[asyncio]) (4.12.2)\n",
      "Requirement already satisfied: greenlet!=0.4.17 in /home/ds/intel/oneapi/intelpython/envs/venvia/lib/python3.11/site-packages (from sqlalchemy[asyncio]) (3.0.3)\n",
      "Collecting async-timeout>=4.0.3 (from asyncpg)\n",
      "  Using cached async_timeout-4.0.3-py3-none-any.whl.metadata (4.2 kB)\n",
      "Downloading asyncpg-0.29.0-cp311-cp311-manylinux_2_17_x86_64.manylinux2014_x86_64.whl (2.8 MB)\n",
      "\u001b[2K   \u001b[90m━━━━━━━━━━━━━━━━━━━━━━━━━━━━━━━━━━━━━━━━\u001b[0m \u001b[32m2.8/2.8 MB\u001b[0m \u001b[31m10.0 MB/s\u001b[0m eta \u001b[36m0:00:00\u001b[0ma \u001b[36m0:00:01\u001b[0m\n",
      "\u001b[?25hDownloading async_timeout-4.0.3-py3-none-any.whl (5.7 kB)\n",
      "Installing collected packages: async-timeout, asyncpg\n",
      "Successfully installed async-timeout-4.0.3 asyncpg-0.29.0\n",
      "Note: you may need to restart the kernel to use updated packages.\n"
     ]
    }
   ],
   "source": [
    "%pip install sqlalchemy[asyncio] asyncpg"
   ]
  },
  {
   "cell_type": "code",
   "execution_count": 2,
   "metadata": {},
   "outputs": [
    {
     "name": "stdout",
     "output_type": "stream",
     "text": [
      "2024-09-21 02:13:38,718 INFO sqlalchemy.engine.Engine select pg_catalog.version()\n",
      "2024-09-21 02:13:38,719 INFO sqlalchemy.engine.Engine [raw sql] ()\n",
      "2024-09-21 02:13:38,722 INFO sqlalchemy.engine.Engine select current_schema()\n",
      "2024-09-21 02:13:38,723 INFO sqlalchemy.engine.Engine [raw sql] ()\n",
      "2024-09-21 02:13:38,725 INFO sqlalchemy.engine.Engine show standard_conforming_strings\n",
      "2024-09-21 02:13:38,726 INFO sqlalchemy.engine.Engine [raw sql] ()\n",
      "2024-09-21 02:13:38,728 INFO sqlalchemy.engine.Engine BEGIN (implicit)\n",
      "2024-09-21 02:13:38,731 INFO sqlalchemy.engine.Engine SELECT pg_catalog.pg_class.relname \n",
      "FROM pg_catalog.pg_class JOIN pg_catalog.pg_namespace ON pg_catalog.pg_namespace.oid = pg_catalog.pg_class.relnamespace \n",
      "WHERE pg_catalog.pg_class.relname = $1::VARCHAR AND pg_catalog.pg_class.relkind = ANY (ARRAY[$2::VARCHAR, $3::VARCHAR, $4::VARCHAR, $5::VARCHAR, $6::VARCHAR]) AND pg_catalog.pg_table_is_visible(pg_catalog.pg_class.oid) AND pg_catalog.pg_namespace.nspname != $7::VARCHAR\n",
      "2024-09-21 02:13:38,732 INFO sqlalchemy.engine.Engine [generated in 0.00093s] ('wiki_summaries', 'r', 'p', 'f', 'v', 'm', 'pg_catalog')\n",
      "2024-09-21 02:13:38,735 INFO sqlalchemy.engine.Engine COMMIT\n",
      "2024-09-21 02:13:38,739 INFO sqlalchemy.engine.Engine BEGIN (implicit)\n",
      "2024-09-21 02:13:38,742 INFO sqlalchemy.engine.Engine INSERT INTO wiki_summaries (uuid, url, summary, creation_date) VALUES ($1::VARCHAR, $2::VARCHAR, $3::VARCHAR, $4::TIMESTAMP WITHOUT TIME ZONE)\n",
      "2024-09-21 02:13:38,743 INFO sqlalchemy.engine.Engine [generated in 0.00093s] ('123e4567-e89b-12d3-a456-426614174004', 'https://example.com', 'This is a summary.', datetime.datetime(2024, 9, 21, 2, 13, 38, 707653))\n",
      "2024-09-21 02:13:38,746 INFO sqlalchemy.engine.Engine COMMIT\n",
      "Data inserted successfully\n"
     ]
    }
   ],
   "source": [
    "import asyncio\n",
    "import datetime\n",
    "\n",
    "from datetime import datetime as dt\n",
    "from sqlalchemy.ext.asyncio import create_async_engine, AsyncSession\n",
    "from sqlalchemy.orm import sessionmaker, declarative_base\n",
    "from sqlalchemy import Column, String, Text, DateTime\n",
    "\n",
    "\n",
    "from backend.app.utils.config import ASYNC_DATABASE_URL\n",
    "\n",
    "\n",
    "# Create the SQLAlchemy engine\n",
    "engine = create_async_engine(ASYNC_DATABASE_URL, echo=True)\n",
    "\n",
    "# Create a base class for declarative class definitions\n",
    "Base = declarative_base()\n",
    "\n",
    "# Define the wiki_summaries table as a class\n",
    "class WikiSummary(Base):\n",
    "    __tablename__ = 'wiki_summaries'\n",
    "    uuid = Column(String, primary_key=True)\n",
    "    url = Column(String, nullable=False)\n",
    "    summary = Column(Text, nullable=False)\n",
    "    creation_date = Column(DateTime,\n",
    "                           default=dt.now(tz=None))\n",
    "\n",
    "# Create the table in the database\n",
    "async def init_db():\n",
    "    async with engine.begin() as conn:\n",
    "        await conn.run_sync(Base.metadata.create_all)\n",
    "\n",
    "# Create a session factory\n",
    "async_session = sessionmaker(\n",
    "    bind=engine,\n",
    "    class_=AsyncSession,\n",
    "    expire_on_commit=False\n",
    ")\n",
    "\n",
    "async def insert_wiki_summary(uuid, url, summary):\n",
    "    async with async_session() as session:\n",
    "        async with session.begin():\n",
    "            try:\n",
    "                # Create a new WikiSummary object\n",
    "                new_summary = WikiSummary(\n",
    "                    uuid=uuid,\n",
    "                    url=url,\n",
    "                    summary=summary\n",
    "                )\n",
    "                \n",
    "                # Add the new object to the session\n",
    "                session.add(new_summary)\n",
    "                \n",
    "                # Commit the transaction\n",
    "                await session.commit()\n",
    "                \n",
    "                print(\"Data inserted successfully\")\n",
    "                \n",
    "            except Exception as e:\n",
    "                print(f\"An error occurred: {e}\")\n",
    "                await session.rollback()\n",
    "\n",
    "# Example usage\n",
    "async def main():\n",
    "    await init_db()\n",
    "    await insert_wiki_summary(\"123e4567-e89b-12d3-a456-426614174004\", \"https://example.com\", \"This is a summary.\")\n",
    "\n",
    "# Run the example\n",
    "await main()"
   ]
  },
  {
   "cell_type": "code",
   "execution_count": null,
   "metadata": {},
   "outputs": [],
   "source": []
  }
 ],
 "metadata": {
  "kernelspec": {
   "display_name": "venvia",
   "language": "python",
   "name": "python3"
  },
  "language_info": {
   "codemirror_mode": {
    "name": "ipython",
    "version": 3
   },
   "file_extension": ".py",
   "mimetype": "text/x-python",
   "name": "python",
   "nbconvert_exporter": "python",
   "pygments_lexer": "ipython3",
   "version": "3.11.8"
  }
 },
 "nbformat": 4,
 "nbformat_minor": 2
}
