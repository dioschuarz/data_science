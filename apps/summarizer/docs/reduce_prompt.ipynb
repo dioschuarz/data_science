{
 "cells": [
  {
   "cell_type": "markdown",
   "metadata": {},
   "source": [
    "# Map"
   ]
  },
  {
   "cell_type": "code",
   "execution_count": 14,
   "metadata": {},
   "outputs": [],
   "source": [
    "\"\"\"Map themes in chunks\"\"\"\n",
    "from langchain_core.output_parsers import StrOutputParser\n",
    "from langchain.prompts import ChatPromptTemplate\n",
    "\n",
    "from backend.app.build.models import LLM\n",
    "\n",
    "\n",
    "MAP_TEMPLATE = (\n",
    "    \"\"\"\n",
    "    The following is a set of documents:\n",
    "\n",
    "    {docs}\n",
    "\n",
    "    Based on this list of docs, please identify the main themes,\n",
    "    considers usage of at least {token_max} tokens,\n",
    "    with a margin of 100 tokens for less or more, in your\n",
    "    whole description.\n",
    "\n",
    "    Helpful Answer:\n",
    "    \"\"\"\n",
    ")\n",
    "\n",
    "# Create the prompt chain\n",
    "MAP_PROMPT = ChatPromptTemplate([(\"human\", MAP_TEMPLATE)])\n",
    "map_chain = MAP_PROMPT | LLM | StrOutputParser()\n"
   ]
  },
  {
   "cell_type": "code",
   "execution_count": 15,
   "metadata": {},
   "outputs": [],
   "source": [
    "import wikipedia as wk\n",
    "\n",
    "from langchain_core.documents import Document\n",
    "\n",
    "l_code = \"pt\"\n",
    "title = \"Nikola Tesla\"\n",
    "\n",
    "# Specify the language of the Wikipedia page\n",
    "wk.set_lang(l_code)\n",
    "# Specify the title of the Wikipedia page\n",
    "wiki = wk.page(title)\n",
    "\n",
    "# Extract the plain text content of the page, excluding images, tables,\n",
    "# and other data.\n",
    "docs = [Document(page_content=wiki.content)]"
   ]
  },
  {
   "cell_type": "code",
   "execution_count": 16,
   "metadata": {},
   "outputs": [],
   "source": [
    "input = {\"docs\": docs,\n",
    "         \"token_max\": 4000}\n",
    "text = map_chain.invoke(input)"
   ]
  },
  {
   "cell_type": "code",
   "execution_count": 17,
   "metadata": {},
   "outputs": [
    {
     "name": "stdout",
     "output_type": "stream",
     "text": [
      "23085\n",
      "940\n"
     ]
    }
   ],
   "source": [
    "from backend.app.build.models import ENCODING\n",
    "\n",
    "in_tokens = ENCODING.encode(docs[0].page_content)\n",
    "out_tokens = ENCODING.encode(text)\n",
    "print(len(in_tokens))\n",
    "print(len(out_tokens))"
   ]
  },
  {
   "cell_type": "markdown",
   "metadata": {},
   "source": [
    "# Reduce"
   ]
  },
  {
   "cell_type": "code",
   "execution_count": 23,
   "metadata": {},
   "outputs": [],
   "source": [
    "\"\"\"Reduce size of chunks\"\"\"\n",
    "from langchain_core.output_parsers import StrOutputParser\n",
    "from langchain.prompts import ChatPromptTemplate\n",
    "\n",
    "from backend.app.build.models import LLM\n",
    "\n",
    "\n",
    "REDUCE_TEMPLATE = (\n",
    "    \"\"\"\n",
    "    The following is a set of summaries:\n",
    "\n",
    "    {docs}\n",
    "\n",
    "    Take these and distill it into a final, consolidated summary\n",
    "    using approximately {token_max} words.\n",
    "    \"\"\"\n",
    ")\n",
    "\n",
    "# Create the prompt chain\n",
    "REDUCE_PROMPT = ChatPromptTemplate([(\"human\", REDUCE_TEMPLATE)])\n",
    "reduce_chain = REDUCE_PROMPT | LLM | StrOutputParser()"
   ]
  },
  {
   "cell_type": "code",
   "execution_count": 24,
   "metadata": {},
   "outputs": [],
   "source": [
    "import wikipedia as wk\n",
    "\n",
    "from langchain_core.documents import Document\n",
    "\n",
    "l_code = \"pt\"\n",
    "title = \"Nikola Tesla\"\n",
    "\n",
    "# Specify the language of the Wikipedia page\n",
    "wk.set_lang(l_code)\n",
    "# Specify the title of the Wikipedia page\n",
    "wiki = wk.page(title)\n",
    "\n",
    "# Extract the plain text content of the page, excluding images, tables,\n",
    "# and other data.\n",
    "docs = [Document(page_content=wiki.content)]"
   ]
  },
  {
   "cell_type": "code",
   "execution_count": 27,
   "metadata": {},
   "outputs": [],
   "source": [
    "input = {\"docs\": docs,\n",
    "         \"token_max\": 4000}\n",
    "text = reduce_chain.invoke(input)"
   ]
  },
  {
   "cell_type": "code",
   "execution_count": 28,
   "metadata": {},
   "outputs": [
    {
     "name": "stdout",
     "output_type": "stream",
     "text": [
      "23085\n",
      "4459\n"
     ]
    }
   ],
   "source": [
    "from backend.app.build.models import ENCODING\n",
    "\n",
    "in_tokens = ENCODING.encode(docs[0].page_content)\n",
    "out_tokens = ENCODING.encode(text)\n",
    "print(len(in_tokens))\n",
    "print(len(out_tokens))"
   ]
  },
  {
   "cell_type": "code",
   "execution_count": 4,
   "metadata": {},
   "outputs": [
    {
     "data": {
      "text/markdown": [
       "## Nikola Tesla: A Life of Visionary Innovation and Unfulfilled Dreams\n",
       "\n",
       "Nikola Tesla, a Serbian-American inventor, electrical engineer, mechanical engineer, and futurist, stands as a towering figure in the history of science and technology. His groundbreaking contributions to the development of alternating current (AC) electricity, radio, and wireless power transmission have profoundly shaped the modern world. However, Tesla's life was also marked by a unique blend of brilliance, eccentricity, and a persistent struggle for recognition and financial stability. This comprehensive summary delves into the key milestones of Tesla's life, exploring his remarkable inventions, visionary ideas, and the challenges he faced throughout his career.\n",
       "\n",
       "**Early Life and Education: A Spark of Genius Ignites**\n",
       "\n",
       "Born in Smiljan, Croatia, in 1856, Tesla displayed an early aptitude for science and engineering. His innate curiosity and exceptional memory, attributed to his mother, were evident from a young age. His father, an Orthodox priest, initially envisioned a religious path for him, but Tesla's fascination with electricity and magnetism proved too strong to ignore.\n",
       "\n",
       "Tesla's formal education began in Smiljan, followed by secondary school in Gospić. His fascination with electricity was ignited by his physics teacher, and his exceptional mathematical abilities, including the ability to perform integral calculus mentally, led his teachers to believe he was cheating.\n",
       "\n",
       "A bout of cholera in 1873 nearly ended Tesla's life, but his father, in a moment of desperation, promised to send him to the best engineering school if he recovered. This promise, coupled with Tesla's own determination, set the stage for his future.\n",
       "\n",
       "In 1875, Tesla enrolled at the Austrian Polytechnic in Graz, Austria, on a scholarship. His initial academic performance was stellar, earning him top marks and accolades from his professors. However, the loss of his scholarship and a gambling addiction led to his academic decline.\n",
       "\n",
       "Tesla's academic career ended abruptly when he left Graz in 1878 without graduating. He moved to Maribor, where he worked as a draftsman, but his gambling habit and a subsequent nervous breakdown led to his return to Gospić under police escort.\n",
       "\n",
       "Following his father's death in 1879, Tesla briefly taught at his former school in Gospić before moving to Prague in 1880. He was unable to enroll at the Charles University due to his lack of Greek proficiency and his inability to speak Czech. Despite this, he attended philosophy lectures as an auditor.\n",
       "\n",
       "**Early Career: From Budapest to Paris, Laying the Foundation**\n",
       "\n",
       "In 1881, Tesla moved to Budapest, Hungary, to work for Tivadar Puskás at the Budapest Telephone Exchange. He played a crucial role in the company's development, becoming the chief electrician and making significant improvements to the equipment.\n",
       "\n",
       "In 1882, Puskás secured a position for Tesla at the Continental Edison Company in Paris. Tesla's work in the burgeoning electrical industry involved installing incandescent lighting throughout the city. His exceptional engineering skills led to his promotion to designing and building improved versions of dynamos and generators.\n",
       "\n",
       "**Emigration to the United States: A Turning Point in Tesla's Destiny**\n",
       "\n",
       "In 1884, Tesla emigrated to the United States at the request of Charles Batchelor, the manager of the Edison Machine Works in New York City. He joined the company, working on troubleshooting installations and improving generators.\n",
       "\n",
       "Despite his contributions, Tesla's relationship with Edison Machine Works was strained. He felt undervalued and underpaid, particularly after being denied a promised bonus for his work on a new arc lighting system. This led to his departure from the company in 1884.\n",
       "\n",
       "**The Rise of Alternating Current: A Visionary Idea Takes Shape**\n",
       "\n",
       "After leaving Edison, Tesla focused on developing his own arc lighting system and securing patents for his inventions. He partnered with Robert Lane and Benjamin Vail to establish the Tesla Electric Light & Lamp Manufacturing company in 1885. However, the investors lost interest in Tesla's innovative ideas for alternating current (AC) motors and transmission equipment, leading to the company's demise and leaving Tesla financially destitute.\n",
       "\n",
       "In 1886, Tesla met Alfred S. Brown and Charles F. Peck, who recognized his potential and agreed to support his work. Together, they formed the Tesla Electric Company in 1887, with Tesla, Peck, and Brown each receiving a third of the profits from patents generated.\n",
       "\n",
       "Tesla's groundbreaking invention, the induction motor, which ran on AC, emerged in 1887. This motor, patented in 1888, was a simple, self-starting design that eliminated the need for a commutator, reducing sparking and maintenance.\n",
       "\n",
       "The invention of the induction motor and its associated patents attracted the attention of George Westinghouse, who saw its potential for his AC system. Westinghouse licensed Tesla's patents and hired him as a consultant, marking a pivotal moment in the development of AC power.\n",
       "\n",
       "**The \"War of Currents\": A Battle for Electrical Supremacy**\n",
       "\n",
       "The late 1880s witnessed intense competition between electricity companies, including Westinghouse, Edison, and Thomson-Houston, as they battled for market dominance. This rivalry, known as the \"War of Currents,\" saw Edison Electric promoting the superiority of direct current (DC) over Westinghouse's AC system.\n",
       "\n",
       "Edison, a staunch supporter of DC, actively campaigned against AC, spreading misinformation and even conducting public demonstrations of its supposed dangers. He claimed that AC was more dangerous than DC, citing instances of electrocutions, and even went so far as to electrocute animals publicly to demonstrate its supposed lethality.\n",
       "\n",
       "Westinghouse's financial struggles in 1890, due to the financial panic of 1890, forced him to renegotiate his contract with Tesla, reducing the royalties paid for the induction motor. Tesla, recognizing the importance of Westinghouse's continued support, agreed to release the company from the royalty clause.\n",
       "\n",
       "Despite Edison's efforts, Tesla's AC system ultimately prevailed, becoming the standard for electrical power generation and distribution worldwide. The 1893 World's Columbian Exposition in Chicago provided a platform for Tesla's AC system to shine. The Westinghouse Electric Company, which had acquired Tesla's patents, won the contract to illuminate the exposition with AC power. The event showcased the safety, reliability, and efficiency of AC technology, solidifying its position as the dominant power system of the future.\n",
       "\n",
       "**Tesla's New York Laboratories: A Hub of Innovation and Experimentation**\n",
       "\n",
       "The financial success from his AC patents allowed Tesla to pursue his own research interests. He established a series of laboratories in Manhattan, where he conducted experiments on various electrical phenomena.\n",
       "\n",
       "In 1889, Tesla's fascination with Heinrich Hertz's experiments on electromagnetic radiation led him to develop the Tesla coil, a resonant transformer circuit capable of generating high-voltage, low-current, high-frequency alternating current. This invention would become a cornerstone of his later work on wireless power transmission.\n",
       "\n",
       "**Wireless Lighting and the Wardenclyffe Tower: A Vision of a Wireless Future**\n",
       "\n",
       "Tesla's research on wireless power transmission, using inductive and capacitive coupling with high-voltage AC currents generated by his coil, led to a series of public demonstrations where he illuminated Geissler tubes and incandescent bulbs wirelessly.\n",
       "\n",
       "In 1893, Tesla envisioned a system that could transmit \"intelligible signals or perhaps even power to any distance without the use of wires,\" leading to his ambitious project, the Wardenclyffe Tower. This intercontinental wireless communication and power transmission tower, however, remained unfinished due to financial constraints.\n",
       "\n",
       "**The Colorado Springs Experiment: A Leap into the Unknown**\n",
       "\n",
       "In 1899, Tesla established a research laboratory in Colorado Springs, Colorado, to further investigate the properties of high-frequency electricity and wireless transmission. His experiments with a massive Tesla coil, capable of generating millions of volts, produced spectacular displays of artificial lightning and thunder. These experiments, while groundbreaking, also led to unintended consequences, such as accidentally burning out the local power generator.\n",
       "\n",
       "**The Tesla Turbine: A Unique Approach to Power Generation**\n",
       "\n",
       "Tesla's inventive spirit extended beyond electricity. He developed a bladeless turbine, which utilized the boundary layer effect to generate power. While the turbine faced engineering challenges and never achieved widespread commercial success, it demonstrated Tesla's innovative approach to solving technical problems.\n",
       "\n",
       "**Later Years and Legacy: A Visionary's Unfulfilled Dreams**\n",
       "\n",
       "Despite his groundbreaking inventions, Tesla's later years were marked by financial hardship and a decline in his public profile. He died in New York City in January 1943, leaving behind a legacy of scientific innovation that continues to inspire generations of engineers and scientists.\n",
       "\n",
       "Tesla's work fell into relative obscurity after his death, but his contributions were recognized in 1960 when the General Conference on Weights and Measures named the SI unit of magnetic flux density the \"tesla\" in his honor.\n",
       "\n",
       "In recent decades, there has been a resurgence of interest in Tesla's life and work, fueled by his visionary ideas and his enduring impact on the development of modern technology. His legacy as a brilliant inventor and a pioneer in the field of electrical engineering remains firmly established.\n",
       "\n",
       "**Tesla's Eccentricity and Personal Struggles: A Complex and Contradictory Figure**\n",
       "\n",
       "Despite his brilliance, Tesla was known for his eccentric personality and unconventional lifestyle. He was a meticulous and obsessive individual, often working long hours and neglecting his personal hygiene. He was also known for his peculiar habits, such as his aversion to touching round objects and his insistence on sleeping only two hours a night.\n",
       "\n",
       "Tesla's life was also marked by financial struggles. He often found himself in debt, unable to secure funding for his ambitious projects. His inability to manage his finances and his tendency to invest heavily in projects that ultimately failed contributed to his financial woes.\n",
       "\n",
       "**Tesla's Legacy in Popular Culture: A Visionary Figure in the Public Imagination**\n",
       "\n",
       "Tesla's life and work have captured the imagination of artists and writers for decades. He has been featured in numerous books, films, television shows, and other forms of media. His name has become synonymous with innovation and technological advancement, and his inventions continue to inspire generations of scientists and engineers.\n",
       "\n",
       "**Conclusion: A Legacy of Innovation and Unfulfilled Dreams**\n",
       "\n",
       "Nikola Tesla was a brilliant and eccentric inventor whose contributions to the world of science and technology are undeniable. His work on AC electricity, wireless power transmission, and other innovations has left an enduring mark on modern civilization. However, his life was also marked by personal struggles, financial difficulties, and a persistent struggle for recognition. Despite his eccentricities, Tesla's legacy as a visionary inventor and engineer remains strong, inspiring generations of scientists and engineers to push the boundaries of human knowledge and innovation. \n"
      ],
      "text/plain": [
       "<IPython.core.display.Markdown object>"
      ]
     },
     "metadata": {},
     "output_type": "display_data"
    }
   ],
   "source": [
    "from IPython.display import Markdown, display\n",
    "\n",
    "display(Markdown(\n",
    "\"## Nikola Tesla: A Life of Visionary Innovation and Unfulfilled Dreams\\n\\nNikola Tesla, a Serbian-American inventor, electrical engineer, mechanical engineer, and futurist, stands as a towering figure in the history of science and technology. His groundbreaking contributions to the development of alternating current (AC) electricity, radio, and wireless power transmission have profoundly shaped the modern world. However, Tesla's life was also marked by a unique blend of brilliance, eccentricity, and a persistent struggle for recognition and financial stability. This comprehensive summary delves into the key milestones of Tesla's life, exploring his remarkable inventions, visionary ideas, and the challenges he faced throughout his career.\\n\\n**Early Life and Education: A Spark of Genius Ignites**\\n\\nBorn in Smiljan, Croatia, in 1856, Tesla displayed an early aptitude for science and engineering. His innate curiosity and exceptional memory, attributed to his mother, were evident from a young age. His father, an Orthodox priest, initially envisioned a religious path for him, but Tesla's fascination with electricity and magnetism proved too strong to ignore.\\n\\nTesla's formal education began in Smiljan, followed by secondary school in Gospić. His fascination with electricity was ignited by his physics teacher, and his exceptional mathematical abilities, including the ability to perform integral calculus mentally, led his teachers to believe he was cheating.\\n\\nA bout of cholera in 1873 nearly ended Tesla's life, but his father, in a moment of desperation, promised to send him to the best engineering school if he recovered. This promise, coupled with Tesla's own determination, set the stage for his future.\\n\\nIn 1875, Tesla enrolled at the Austrian Polytechnic in Graz, Austria, on a scholarship. His initial academic performance was stellar, earning him top marks and accolades from his professors. However, the loss of his scholarship and a gambling addiction led to his academic decline.\\n\\nTesla's academic career ended abruptly when he left Graz in 1878 without graduating. He moved to Maribor, where he worked as a draftsman, but his gambling habit and a subsequent nervous breakdown led to his return to Gospić under police escort.\\n\\nFollowing his father's death in 1879, Tesla briefly taught at his former school in Gospić before moving to Prague in 1880. He was unable to enroll at the Charles University due to his lack of Greek proficiency and his inability to speak Czech. Despite this, he attended philosophy lectures as an auditor.\\n\\n**Early Career: From Budapest to Paris, Laying the Foundation**\\n\\nIn 1881, Tesla moved to Budapest, Hungary, to work for Tivadar Puskás at the Budapest Telephone Exchange. He played a crucial role in the company's development, becoming the chief electrician and making significant improvements to the equipment.\\n\\nIn 1882, Puskás secured a position for Tesla at the Continental Edison Company in Paris. Tesla's work in the burgeoning electrical industry involved installing incandescent lighting throughout the city. His exceptional engineering skills led to his promotion to designing and building improved versions of dynamos and generators.\\n\\n**Emigration to the United States: A Turning Point in Tesla's Destiny**\\n\\nIn 1884, Tesla emigrated to the United States at the request of Charles Batchelor, the manager of the Edison Machine Works in New York City. He joined the company, working on troubleshooting installations and improving generators.\\n\\nDespite his contributions, Tesla's relationship with Edison Machine Works was strained. He felt undervalued and underpaid, particularly after being denied a promised bonus for his work on a new arc lighting system. This led to his departure from the company in 1884.\\n\\n**The Rise of Alternating Current: A Visionary Idea Takes Shape**\\n\\nAfter leaving Edison, Tesla focused on developing his own arc lighting system and securing patents for his inventions. He partnered with Robert Lane and Benjamin Vail to establish the Tesla Electric Light & Lamp Manufacturing company in 1885. However, the investors lost interest in Tesla's innovative ideas for alternating current (AC) motors and transmission equipment, leading to the company's demise and leaving Tesla financially destitute.\\n\\nIn 1886, Tesla met Alfred S. Brown and Charles F. Peck, who recognized his potential and agreed to support his work. Together, they formed the Tesla Electric Company in 1887, with Tesla, Peck, and Brown each receiving a third of the profits from patents generated.\\n\\nTesla's groundbreaking invention, the induction motor, which ran on AC, emerged in 1887. This motor, patented in 1888, was a simple, self-starting design that eliminated the need for a commutator, reducing sparking and maintenance.\\n\\nThe invention of the induction motor and its associated patents attracted the attention of George Westinghouse, who saw its potential for his AC system. Westinghouse licensed Tesla's patents and hired him as a consultant, marking a pivotal moment in the development of AC power.\\n\\n**The \\\"War of Currents\\\": A Battle for Electrical Supremacy**\\n\\nThe late 1880s witnessed intense competition between electricity companies, including Westinghouse, Edison, and Thomson-Houston, as they battled for market dominance. This rivalry, known as the \\\"War of Currents,\\\" saw Edison Electric promoting the superiority of direct current (DC) over Westinghouse's AC system.\\n\\nEdison, a staunch supporter of DC, actively campaigned against AC, spreading misinformation and even conducting public demonstrations of its supposed dangers. He claimed that AC was more dangerous than DC, citing instances of electrocutions, and even went so far as to electrocute animals publicly to demonstrate its supposed lethality.\\n\\nWestinghouse's financial struggles in 1890, due to the financial panic of 1890, forced him to renegotiate his contract with Tesla, reducing the royalties paid for the induction motor. Tesla, recognizing the importance of Westinghouse's continued support, agreed to release the company from the royalty clause.\\n\\nDespite Edison's efforts, Tesla's AC system ultimately prevailed, becoming the standard for electrical power generation and distribution worldwide. The 1893 World's Columbian Exposition in Chicago provided a platform for Tesla's AC system to shine. The Westinghouse Electric Company, which had acquired Tesla's patents, won the contract to illuminate the exposition with AC power. The event showcased the safety, reliability, and efficiency of AC technology, solidifying its position as the dominant power system of the future.\\n\\n**Tesla's New York Laboratories: A Hub of Innovation and Experimentation**\\n\\nThe financial success from his AC patents allowed Tesla to pursue his own research interests. He established a series of laboratories in Manhattan, where he conducted experiments on various electrical phenomena.\\n\\nIn 1889, Tesla's fascination with Heinrich Hertz's experiments on electromagnetic radiation led him to develop the Tesla coil, a resonant transformer circuit capable of generating high-voltage, low-current, high-frequency alternating current. This invention would become a cornerstone of his later work on wireless power transmission.\\n\\n**Wireless Lighting and the Wardenclyffe Tower: A Vision of a Wireless Future**\\n\\nTesla's research on wireless power transmission, using inductive and capacitive coupling with high-voltage AC currents generated by his coil, led to a series of public demonstrations where he illuminated Geissler tubes and incandescent bulbs wirelessly.\\n\\nIn 1893, Tesla envisioned a system that could transmit \\\"intelligible signals or perhaps even power to any distance without the use of wires,\\\" leading to his ambitious project, the Wardenclyffe Tower. This intercontinental wireless communication and power transmission tower, however, remained unfinished due to financial constraints.\\n\\n**The Colorado Springs Experiment: A Leap into the Unknown**\\n\\nIn 1899, Tesla established a research laboratory in Colorado Springs, Colorado, to further investigate the properties of high-frequency electricity and wireless transmission. His experiments with a massive Tesla coil, capable of generating millions of volts, produced spectacular displays of artificial lightning and thunder. These experiments, while groundbreaking, also led to unintended consequences, such as accidentally burning out the local power generator.\\n\\n**The Tesla Turbine: A Unique Approach to Power Generation**\\n\\nTesla's inventive spirit extended beyond electricity. He developed a bladeless turbine, which utilized the boundary layer effect to generate power. While the turbine faced engineering challenges and never achieved widespread commercial success, it demonstrated Tesla's innovative approach to solving technical problems.\\n\\n**Later Years and Legacy: A Visionary's Unfulfilled Dreams**\\n\\nDespite his groundbreaking inventions, Tesla's later years were marked by financial hardship and a decline in his public profile. He died in New York City in January 1943, leaving behind a legacy of scientific innovation that continues to inspire generations of engineers and scientists.\\n\\nTesla's work fell into relative obscurity after his death, but his contributions were recognized in 1960 when the General Conference on Weights and Measures named the SI unit of magnetic flux density the \\\"tesla\\\" in his honor.\\n\\nIn recent decades, there has been a resurgence of interest in Tesla's life and work, fueled by his visionary ideas and his enduring impact on the development of modern technology. His legacy as a brilliant inventor and a pioneer in the field of electrical engineering remains firmly established.\\n\\n**Tesla's Eccentricity and Personal Struggles: A Complex and Contradictory Figure**\\n\\nDespite his brilliance, Tesla was known for his eccentric personality and unconventional lifestyle. He was a meticulous and obsessive individual, often working long hours and neglecting his personal hygiene. He was also known for his peculiar habits, such as his aversion to touching round objects and his insistence on sleeping only two hours a night.\\n\\nTesla's life was also marked by financial struggles. He often found himself in debt, unable to secure funding for his ambitious projects. His inability to manage his finances and his tendency to invest heavily in projects that ultimately failed contributed to his financial woes.\\n\\n**Tesla's Legacy in Popular Culture: A Visionary Figure in the Public Imagination**\\n\\nTesla's life and work have captured the imagination of artists and writers for decades. He has been featured in numerous books, films, television shows, and other forms of media. His name has become synonymous with innovation and technological advancement, and his inventions continue to inspire generations of scientists and engineers.\\n\\n**Conclusion: A Legacy of Innovation and Unfulfilled Dreams**\\n\\nNikola Tesla was a brilliant and eccentric inventor whose contributions to the world of science and technology are undeniable. His work on AC electricity, wireless power transmission, and other innovations has left an enduring mark on modern civilization. However, his life was also marked by personal struggles, financial difficulties, and a persistent struggle for recognition. Despite his eccentricities, Tesla's legacy as a visionary inventor and engineer remains strong, inspiring generations of scientists and engineers to push the boundaries of human knowledge and innovation. \\n\"\n",
    "))"
   ]
  },
  {
   "cell_type": "markdown",
   "metadata": {},
   "source": [
    "# Test Interface"
   ]
  },
  {
   "cell_type": "code",
   "execution_count": 1,
   "metadata": {},
   "outputs": [],
   "source": [
    "import os\n",
    "import requests\n",
    "\n",
    "from dotenv import load_dotenv\n",
    "\n",
    "load_dotenv()\n",
    "\n",
    "summary_id = \"7a6f2ef7-40ef-4f1b-95c1-98c43410d1e0\"\n",
    "\n",
    "# Define the FastAPI endpoint\n",
    "FASTAPI_URL = os.getenv(\"FASTAPI_URL\")\n",
    "FASTAPI_POST_URL = FASTAPI_URL + \"/insert_article\"\n",
    "FASTAPI_GET_URL = FASTAPI_URL + \"/get_summary\"\n",
    "\n",
    "response = requests.get((f\"{FASTAPI_GET_URL}/\"\n",
    "                            \"{uuid}\"\n",
    "                            f\"?u_id={summary_id}\"),\n",
    "                        timeout=60)"
   ]
  },
  {
   "cell_type": "code",
   "execution_count": 3,
   "metadata": {},
   "outputs": [
    {
     "data": {
      "text/plain": [
       "b'{\"uuid\":\"7a6f2ef7-40ef-4f1b-95c1-98c43410d1e0\",\"summary\":\"## Nikola Tesla: A Life of Visionary Innovation and Complex Contradictions\\\\n\\\\nNikola Tesla, a Serbian-American inventor, electrical engineer, and physicist, stands as a towering figure in the history of science and technology. His groundbreaking contributions to the development of alternating current (AC) electricity, radio technology, and other innovations fundamentally shaped the modern world. Yet, his life was a complex tapestry woven with both extraordinary achievements and unfulfilled ambitions, reflecting a unique blend of brilliance, eccentricity, and controversial views.\\\\n\\\\nTesla\\'s early life was marked by a fascination with electricity and a prodigious memory. He claimed to possess a photographic memory, allowing him to visualize inventions in intricate detail before even sketching them. This ability, coupled with his relentless pursuit of scientific knowledge, led him to develop groundbreaking inventions, including the AC induction motor, the Tesla coil, and the Tesla turbine.\\\\n\\\\nTesla\\'s work on alternating current revolutionized the way electricity was generated and distributed. His AC system, which was more efficient and powerful than the direct current (DC) system championed by Thomas Edison, ultimately became the standard for modern electrical grids. This achievement cemented Tesla\\'s place as a pioneer in electrical engineering and earned him widespread recognition.\\\\n\\\\nTesla\\'s early career was intertwined with the legendary Thomas Edison. After immigrating to the United States in 1884, Tesla joined Edison\\'s company, the Edison Machine Works, hoping to contribute his expertise in alternating current (AC) technology. However, Edison, a staunch advocate for direct current (DC), dismissed Tesla\\'s ideas, leading to a strained relationship and eventual departure.\\\\n\\\\nUndeterred, Tesla established his own company, Tesla Electric Light & Lamp Manufacturing, in 1885. He focused on developing and patenting an improved arc lighting system, but his investors, primarily interested in the manufacturing side of the business, abandoned the venture, leaving Tesla financially destitute.\\\\n\\\\nDespite these setbacks, Tesla\\'s genius continued to shine. In 1887, he met Alfred S. Brown and Charles F. Peck, who recognized the potential of his groundbreaking ideas, particularly his revolutionary AC induction motor. Together, they formed the Tesla Electric Company, providing Tesla with the financial backing he needed to pursue his research.\\\\n\\\\nTesla\\'s AC induction motor, patented in 1888, was a game-changer. It offered a simple, self-starting design that eliminated the need for a commutator, reducing sparking and maintenance. This innovation, coupled with the growing popularity of AC power for long-distance transmission, caught the attention of George Westinghouse, a prominent industrialist who was already promoting AC systems.\\\\n\\\\nWestinghouse recognized the potential of Tesla\\'s invention and secured a licensing agreement for his motor and polyphase transformer designs. He also hired Tesla as a consultant, marking a pivotal moment in the \\\\\"War of Currents\\\\\" \\xe2\\x80\\x93 a fierce rivalry between Edison\\'s DC system and Westinghouse\\'s AC system.\\\\n\\\\nTesla\\'s work at Westinghouse, however, was not without its challenges. He faced resistance from other engineers who favored different approaches to implementing AC power. Despite these conflicts, Tesla\\'s vision prevailed, and Westinghouse eventually adopted his 60-cycle AC system, a standard that remains in use today.\\\\n\\\\nFinancial difficulties plagued Westinghouse Electric in the early 1890s, forcing the company to renegotiate its contracts, including the royalty agreement with Tesla. Tesla, recognizing the importance of Westinghouse\\'s continued support for his AC technology, agreed to release the company from the royalty clause.\\\\n\\\\nDespite the financial setbacks, Tesla\\'s ingenuity continued to flourish. He established his own laboratories in New York City, where he pursued his research on high-frequency alternating currents and wireless power transmission. His experiments led to the development of the Tesla coil, a resonant transformer capable of generating high-voltage, low-current, high-frequency AC electricity.\\\\n\\\\nTesla\\'s fascination with wireless power transmission led him to explore various methods, including inductive and capacitive coupling. He conducted public demonstrations where he illuminated Geissler tubes and incandescent bulbs wirelessly, showcasing the potential of his inventions. However, despite his efforts, he was unable to commercialize these technologies.\\\\n\\\\nDriven by a vision of a wireless future, Tesla embarked on ambitious projects that aimed to harness the power of nature. In 1899, he established a laboratory in Colorado Springs, where he conducted experiments with high-voltage, high-frequency electricity, generating artificial lightning and exploring the potential for wireless communication. His observations of radio waves led him to believe, incorrectly, that he could transmit electrical energy wirelessly across the globe.\\\\n\\\\nTesla\\'s fascination with wireless communication extended beyond terrestrial applications. He claimed to have detected signals of extraterrestrial origin, sparking sensational headlines and fueling speculation about his contact with alien intelligence. While these claims were later attributed to terrestrial sources, they highlight Tesla\\'s visionary thinking and his belief in the potential for communication beyond Earth.\\\\n\\\\nIn 1901, Tesla secured funding from J.P. Morgan to build the Wardenclyffe Tower, a massive wireless transmission station on Long Island, New York. He envisioned a system that would transmit both messages and power wirelessly, revolutionizing communication and energy distribution. However, financial constraints and setbacks, including the success of Guglielmo Marconi\\'s radio system, ultimately led to the project\\'s abandonment in 1905.\\\\n\\\\nDespite the failure of Wardenclyffe, Tesla continued to pursue his inventions, developing the bladeless turbine, a device that utilized centrifugal force to generate power. While it proved to be a technological marvel, it faced engineering challenges that prevented its widespread adoption.\\\\n\\\\nTesla\\'s life was not without its legal battles. He engaged in patent disputes with Marconi, claiming that the latter had infringed on his own wireless communication patents. While the legal proceedings were complex and protracted, a Supreme Court decision in 1943 ultimately recognized Tesla\\'s contributions to the development of radio technology.\\\\n\\\\nDespite his groundbreaking inventions and visionary ideas, Tesla\\'s later years were marked by financial struggles and a growing sense of isolation. He struggled to secure funding for his projects and faced skepticism from the scientific community. His eccentricities and unconventional ideas further alienated him from mainstream society.\\\\n\\\\nDespite the challenges he faced, Tesla\\'s legacy as a visionary inventor and a pioneer in the field of electricity remains strong. His contributions to the development of AC electricity, radio technology, and wireless power transmission continue to shape the modern world. While his dreams of a wireless future may have remained unfulfilled, his relentless pursuit of innovation and his unwavering belief in the power of technology continue to inspire generations of scientists and engineers. \\\\n\\\\nHowever, Tesla\\'s life was not without its complexities and contradictions. While he was known for his brilliance and dedication, he also exhibited a complex personality. He was often described as asocial and prone to isolation, preferring the company of his inventions to that of people. However, when he did engage in social interactions, he was often admired for his charm, intelligence, and wit. He was known for his generosity and kindness, but also for his sharp tongue and intolerance for mediocrity. He was critical of those he perceived as lacking in intelligence or refinement, and his views on women were particularly controversial.\\\\n\\\\nTesla held traditional views on women\\'s roles, believing that they should embrace their femininity and avoid competing with men. He was deeply critical of the emerging feminist movement, seeing it as a threat to the natural order. His views on women were often expressed in derogatory terms, reflecting the societal norms of his time.\\\\n\\\\nDespite his controversial views, Tesla was a visionary thinker who made significant contributions to science and technology. He was a pioneer in the field of alternating current (AC) electricity, developing the AC induction motor and the Tesla coil, which are still used today. He also made significant contributions to radio technology, wireless communication, and robotics.\\\\n\\\\nTesla\\'s interests extended beyond electricity. He was fascinated by the nature of the universe and explored concepts such as wireless energy transmission, the possibility of harnessing cosmic energy, and the existence of a universal ether. He was also a proponent of eugenics, believing that selective breeding could improve the human race.\\\\n\\\\nTesla\\'s legacy is a complex one, marked by both groundbreaking inventions and controversial views. He is remembered as a visionary genius who pushed the boundaries of science and technology, but also as a figure whose personal beliefs and actions reflected the prejudices of his time. His life and work continue to inspire and intrigue, reminding us that even the most brilliant minds can harbor contradictions and complexities. \\\\n\"}'"
      ]
     },
     "execution_count": 3,
     "metadata": {},
     "output_type": "execute_result"
    }
   ],
   "source": [
    "response.content"
   ]
  }
 ],
 "metadata": {
  "kernelspec": {
   "display_name": "venvia",
   "language": "python",
   "name": "python3"
  },
  "language_info": {
   "codemirror_mode": {
    "name": "ipython",
    "version": 3
   },
   "file_extension": ".py",
   "mimetype": "text/x-python",
   "name": "python",
   "nbconvert_exporter": "python",
   "pygments_lexer": "ipython3",
   "version": "3.11.8"
  }
 },
 "nbformat": 4,
 "nbformat_minor": 2
}
